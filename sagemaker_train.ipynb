{
 "cells": [
  {
   "cell_type": "code",
   "execution_count": null,
   "id": "ce073dc2",
   "metadata": {
    "vscode": {
     "languageId": "plaintext"
    }
   },
   "outputs": [],
   "source": [
    "import sagemaker\n",
    "from sagemaker.sklearn import SKLearn\n",
    "from sagemaker import get_execution_role\n",
    "import sagemaker.session\n",
    "\n",
    "sagemaker_session = sagemaker.Session()\n",
    "role = \"arn:aws:iam::123456789012:role/SageMakerExecutionRole\"  # replace\n",
    "bucket = \"my-sagemaker-bucket-12345\"\n",
    "prefix = \"mhd-sklearn\"\n",
    "\n",
    "# Upload training data to S3 if not already uploaded\n",
    "s3_input_train = sagemaker_session.upload_data('mhd.csv', bucket=bucket, key_prefix=f'{prefix}/data')\n",
    "\n",
    "script_path = 'train.py'\n",
    "\n",
    "sklearn_estimator = SKLearn(\n",
    "    entry_point=script_path,\n",
    "    role=role,\n",
    "    instance_type='ml.c5.xlarge',   # choose appropriate instance\n",
    "    instance_count=1,\n",
    "    framework_version='1.2-1',      # pick a recent SKLearn image supported by SageMaker SDK\n",
    "    py_version='py3',\n",
    "    hyperparameters={'n-estimators': 100},\n",
    "    sagemaker_session=sagemaker_session\n",
    ")\n",
    "\n",
    "sklearn_estimator.fit({'train': s3_input_train})\n"
   ]
  }
 ],
 "metadata": {
  "language_info": {
   "name": "python"
  }
 },
 "nbformat": 4,
 "nbformat_minor": 5
}
